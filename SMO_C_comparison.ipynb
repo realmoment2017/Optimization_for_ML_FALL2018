{
 "cells": [
  {
   "cell_type": "code",
   "execution_count": 4,
   "metadata": {},
   "outputs": [],
   "source": [
    "# Optimization for Machine Learning\n",
    "# Problem: projected gradient descent for SVM\n",
    "\n",
    "%matplotlib inline\n",
    "\n",
    "import numpy as np\n",
    "import matplotlib\n",
    "import matplotlib.pyplot as plt\n",
    "from pegasos import *\n",
    "from cyclic_coordinate_descent import *\n",
    "from random_coordinate_descent import *\n",
    "from utils import *\n",
    "\n",
    "\n",
    "from sklearn.datasets import make_blobs, make_circles, make_moons\n",
    "from sklearn.preprocessing import StandardScaler\n",
    "import os, struct\n",
    "from array import array\n",
    "from SMO import SMO\n",
    "from RSMO import RSMO\n",
    "\n",
    "np.random.seed(1337)\n",
    "\n",
    "kwargs = {'linewidth' : 3.5}\n",
    "font = {'weight' : 'normal', 'size'   : 24}\n",
    "matplotlib.rc('font', **font)\n"
   ]
  },
  {
   "cell_type": "markdown",
   "metadata": {},
   "source": [
    "### Load mnist training and validation images. Plot examples from both sets and show their corresponding labels as verification."
   ]
  },
  {
   "cell_type": "code",
   "execution_count": 5,
   "metadata": {},
   "outputs": [
    {
     "name": "stdout",
     "output_type": "stream",
     "text": [
      "mnist: number of training examples 11769\n",
      "mnist: number of validation examples 1932\n"
     ]
    }
   ],
   "source": [
    "# mnist load images\n",
    "train_imgs_dir = './dataset/mnist/train-images.idx3-ubyte'\n",
    "train_labels_dir = './dataset/mnist/train-labels.idx1-ubyte'\n",
    "val_imgs_dir = './dataset/mnist/t10k-images.idx3-ubyte'\n",
    "val_labels_dir = './dataset/mnist/t10k-labels.idx1-ubyte'\n",
    "train_imgs, train_labels = mnist_data_loader(train_imgs_dir, train_labels_dir)\n",
    "print(\"mnist: number of training examples\", train_imgs.shape[0])\n",
    "\n",
    "val_imgs, val_labels = mnist_data_loader(val_imgs_dir, val_labels_dir)\n",
    "print(\"mnist: number of validation examples\", val_imgs.shape[0])\n",
    "HEIGHT = 28\n",
    "WIDTH = 28\n",
    "\n",
    "# Reshape images to vectors\n",
    "train_vectors = train_imgs.reshape(-1, HEIGHT * WIDTH)\n",
    "val_vectors = val_imgs.reshape(-1, HEIGHT * WIDTH)"
   ]
  },
  {
   "cell_type": "markdown",
   "metadata": {},
   "source": [
    "## Plot Functions"
   ]
  },
  {
   "cell_type": "code",
   "execution_count": 6,
   "metadata": {},
   "outputs": [],
   "source": [
    "# initialize w, lambda\n",
    "num_examples, num_features = train_vectors.shape\n",
    "\n",
    "def error_plot(w, _lambda, img_vectors, labels, algorithm, dilate=1, yscale='log'):\n",
    "    \"\"\"plot errors\"\"\"\n",
    "    error_list = cal_objective_dilate(w, _lambda, img_vectors, labels, dilate)\n",
    "    print(algorithm+\" error:\", error_list[-1])\n",
    "    plt.xlabel('Step')\n",
    "    plt.ylabel('Error')\n",
    "#     plt.yscale(yscale)\n",
    "    num_iters = len(error_list)\n",
    "    plt.plot(np.linspace(0, num_iters*dilate, num=num_iters), error_list, **kwargs)\n",
    "\n",
    "def cal_objective_dilate(w, _lambda, img_vectors, labels, dilate=1):\n",
    "    num_iters = len(w)\n",
    "    return [objective(x, _lambda, img_vectors, labels) \\\n",
    "                                for x in w[0:num_iters:dilate]]\n",
    "\n",
    "def acc_plot(w, img_vectors, labels, algorithm, dilate=1):\n",
    "    \"\"\"plot accuracies\"\"\"\n",
    "    acc_list = cal_acc_dilate(w, img_vectors, labels, dilate)\n",
    "    print(algorithm+\" acc:\", acc_list[-1])\n",
    "    plt.xlabel('Step')\n",
    "    plt.ylabel('Acc')\n",
    "    num_iters = len(acc_list)\n",
    "    plt.plot(np.linspace(0, num_iters*dilate, num=num_iters), acc_list, **kwargs)\n",
    "\n",
    "def cal_acc_dilate(w, img_vectors, labels, dilate=1):\n",
    "    num_iters = len(w)\n",
    "    return [compute_accuracy(x, img_vectors, labels) for x in w[0:num_iters:dilate]]"
   ]
  },
  {
   "cell_type": "markdown",
   "metadata": {},
   "source": [
    "## Training error"
   ]
  },
  {
   "cell_type": "code",
   "execution_count": 7,
   "metadata": {
    "scrolled": false
   },
   "outputs": [],
   "source": [
    "def average_weight(w):\n",
    "    w_sum = np.zeros([num_features,1])\n",
    "    w_average = []\n",
    "    for i in range(0,len(w)):\n",
    "        w_sum += w[i]\n",
    "        w_average.append(w_sum/(i+1))\n",
    "    return w_average\n",
    "\n",
    "def set_pegasos_params():\n",
    "    w0 = np.zeros([num_features,1])\n",
    "    _lambda = 1\n",
    "    num_steps = 3000\n",
    "    return _lambda, num_steps, w0\n",
    "\n",
    "def set_primal_cyclic_cd_params():\n",
    "    w0 = np.zeros([num_features,1])\n",
    "    _lambda = 1\n",
    "    num_steps = 4\n",
    "    t_bias = 10\n",
    "    return _lambda, num_steps, w0, t_bias\n",
    "\n",
    "def set_primal_random_cd_params():\n",
    "    w0 = np.zeros([num_features,1])\n",
    "    _lambda = 1\n",
    "    num_steps = 4\n",
    "    t_bias = 10\n",
    "    return _lambda, num_steps, w0, t_bias\n"
   ]
  },
  {
   "cell_type": "code",
   "execution_count": 10,
   "metadata": {},
   "outputs": [
    {
     "name": "stdout",
     "output_type": "stream",
     "text": [
      "SMO training start\n",
      "SMO training ends....\n",
      "Iteration number exceeded the max of 1 iterations\n",
      "using time : 542.6186530590057\n",
      "SMO training start\n",
      "SMO training ends....\n",
      "Iteration number exceeded the max of 1 iterations\n",
      "using time : 541.1609675884247\n",
      "SMO training start\n",
      "SMO training ends....\n"
     ]
    },
    {
     "data": {
      "text/plain": [
       "(array([[-0.4541286 , -0.4541286 , -0.4541286 , ..., -0.4541286 ,\n",
       "         -0.4541286 , -0.4541286 ],\n",
       "        [-0.4407392 , -0.4407392 , -0.4407392 , ..., -0.4407392 ,\n",
       "         -0.4407392 , -0.4407392 ],\n",
       "        [-0.45760015, -0.45760015, -0.45760015, ..., -0.45760015,\n",
       "         -0.45760015, -0.45760015],\n",
       "        ...,\n",
       "        [-0.3771063 , -0.3771063 , -0.3771063 , ..., -0.3771063 ,\n",
       "         -0.3771063 , -0.3771063 ],\n",
       "        [-0.39203656, -0.39203656, -0.39203656, ..., -0.39203656,\n",
       "         -0.39203656, -0.39203656],\n",
       "        [-0.6214801 , -0.6214801 , -0.6214801 , ..., -0.6214801 ,\n",
       "         -0.6214801 , -0.6214801 ]], dtype=float32), 1)"
      ]
     },
     "execution_count": 10,
     "metadata": {},
     "output_type": "execute_result"
    }
   ],
   "source": [
    "# SMO descend with C=100.0\n",
    "smo_model_100 = SMO(max_iter=1, kernel_type='linear', C=100.0, epsilon=0.001)\n",
    "smo_model_100.fit(train_vectors, train_labels)\n",
    "\n",
    "# SMO descend with C=10.0\n",
    "smo_model_10 = SMO(max_iter=1, kernel_type='linear', C=10.0, epsilon=0.001)\n",
    "smo_model_10.fit(train_vectors, train_labels)\n",
    "\n",
    "# SMO descend with C=1.0\n",
    "smo_model_1 = SMO(max_iter=1, kernel_type='linear', C=1.0, epsilon=0.001)\n",
    "smo_model_1.fit(train_vectors, train_labels)\n",
    "\n",
    "# SMO descend with C=0.1\n",
    "smo_model_01 = SMO(max_iter=1, kernel_type='linear', C=0.1, epsilon=0.001)\n",
    "smo_model_01.fit(train_vectors, train_labels)\n",
    "\n",
    "# SMO descend with C=0.01\n",
    "smo_model_001 = SMO(max_iter=1, kernel_type='linear', C=0.01, epsilon=0.001)\n",
    "smo_model_001.fit(train_vectors, train_labels)\n",
    "\n",
    "# SMO descend with C=1/n\n",
    "smo_model_0n = SMO(max_iter=1, kernel_type='linear', C=1.0 / train_vectors.shape[0], epsilon=0.001)\n",
    "smo_model_0n.fit(train_vectors, train_labels)"
   ]
  },
  {
   "cell_type": "code",
   "execution_count": 12,
   "metadata": {},
   "outputs": [
    {
     "name": "stdout",
     "output_type": "stream",
     "text": [
      "SMO error: 0.1141519655831446\n",
      "SMO error: 0.12812620809074993\n",
      "SMO error: 0.7377224909789335\n"
     ]
    },
    {
     "data": {
      "text/plain": [
       "<matplotlib.legend.Legend at 0x23bac982c88>"
      ]
     },
     "execution_count": 12,
     "metadata": {},
     "output_type": "execute_result"
    },
    {
     "data": {
      "image/png": "[encoded data removed]",
      "text/plain": [
       "<Figure size 576x576 with 1 Axes>"
      ]
     },
     "metadata": {
      "needs_background": "light"
     },
     "output_type": "display_data"
    }
   ],
   "source": [
    "# training error plot\n",
    "plot_dilation = 200\n",
    "plt.figure(figsize=(8, 8))\n",
    "plot_iters = 3000\n",
    "\n",
    "error_plot(smo_model_100.w_ls[:plot_iters], 1.0, train_vectors, train_labels, 'SMO C = 100.0', plot_dilation)\n",
    "error_plot(smo_model_10.w_ls[:plot_iters], 1.0, train_vectors, train_labels, 'SMO C = 10.0', plot_dilation)\n",
    "error_plot(smo_model_1.w_ls[:plot_iters], 1.0, train_vectors, train_labels, 'SMO C= 1.0', plot_dilation)\n",
    "error_plot(smo_model_01.w_ls[:plot_iters], 1.0, train_vectors, train_labels, 'SMO C = 0.1', plot_dilation)\n",
    "error_plot(smo_model_001.w_ls[:plot_iters], 1.0, train_vectors, train_labels, 'SMO C = 0.01', plot_dilation)\n",
    "error_plot(smo_model_0n.w_ls[:plot_iters], 1.0, train_vectors, train_labels, 'SMO C = 1/n', plot_dilation)\n",
    "\n",
    "plt.title(' Training Error ')\n",
    "plt.legend(['C = 100.0', 'C = 10.0', 'C= 1.0', 'C = 0.1', 'C = 0.01', 'C = 1/n'])"
   ]
  },
  {
   "cell_type": "code",
   "execution_count": 2,
   "metadata": {},
   "outputs": [
    {
     "ename": "NameError",
     "evalue": "name 'plt' is not defined",
     "output_type": "error",
     "traceback": [
      "\u001b[1;31m---------------------------------------------------------------------------\u001b[0m",
      "\u001b[1;31mNameError\u001b[0m                                 Traceback (most recent call last)",
      "\u001b[1;32m<ipython-input-2-32993d7702dc>\u001b[0m in \u001b[0;36m<module>\u001b[1;34m()\u001b[0m\n\u001b[0;32m      1\u001b[0m \u001b[1;31m# training acc plot\u001b[0m\u001b[1;33m\u001b[0m\u001b[1;33m\u001b[0m\u001b[0m\n\u001b[1;32m----> 2\u001b[1;33m \u001b[0mplt\u001b[0m\u001b[1;33m.\u001b[0m\u001b[0mfigure\u001b[0m\u001b[1;33m(\u001b[0m\u001b[0mfigsize\u001b[0m\u001b[1;33m=\u001b[0m\u001b[1;33m(\u001b[0m\u001b[1;36m8\u001b[0m\u001b[1;33m,\u001b[0m \u001b[1;36m8\u001b[0m\u001b[1;33m)\u001b[0m\u001b[1;33m)\u001b[0m\u001b[1;33m\u001b[0m\u001b[0m\n\u001b[0m\u001b[0;32m      3\u001b[0m \u001b[0macc_plot\u001b[0m\u001b[1;33m(\u001b[0m\u001b[0msvm_model_100\u001b[0m\u001b[1;33m.\u001b[0m\u001b[0mw_ls\u001b[0m\u001b[1;33m[\u001b[0m\u001b[1;33m:\u001b[0m\u001b[0mplot_iters\u001b[0m\u001b[1;33m]\u001b[0m\u001b[1;33m,\u001b[0m \u001b[0mtrain_vectors\u001b[0m\u001b[1;33m,\u001b[0m \u001b[0mtrain_labels\u001b[0m\u001b[1;33m,\u001b[0m \u001b[1;34m'SMO'\u001b[0m\u001b[1;33m,\u001b[0m \u001b[0mplot_dilation\u001b[0m\u001b[1;33m)\u001b[0m\u001b[1;33m\u001b[0m\u001b[0m\n\u001b[0;32m      4\u001b[0m \u001b[0macc_plot\u001b[0m\u001b[1;33m(\u001b[0m\u001b[0msvm_model_10\u001b[0m\u001b[1;33m.\u001b[0m\u001b[0mw_ls\u001b[0m\u001b[1;33m[\u001b[0m\u001b[1;33m:\u001b[0m\u001b[0mplot_iters\u001b[0m\u001b[1;33m]\u001b[0m\u001b[1;33m,\u001b[0m \u001b[0mtrain_vectors\u001b[0m\u001b[1;33m,\u001b[0m \u001b[0mtrain_labels\u001b[0m\u001b[1;33m,\u001b[0m \u001b[1;34m'SMO'\u001b[0m\u001b[1;33m,\u001b[0m \u001b[0mplot_dilation\u001b[0m\u001b[1;33m)\u001b[0m\u001b[1;33m\u001b[0m\u001b[0m\n\u001b[0;32m      5\u001b[0m \u001b[0macc_plot\u001b[0m\u001b[1;33m(\u001b[0m\u001b[0msvm_model_1\u001b[0m\u001b[1;33m.\u001b[0m\u001b[0mw_ls\u001b[0m\u001b[1;33m[\u001b[0m\u001b[1;33m:\u001b[0m\u001b[0mplot_iters\u001b[0m\u001b[1;33m]\u001b[0m\u001b[1;33m,\u001b[0m \u001b[0mtrain_vectors\u001b[0m\u001b[1;33m,\u001b[0m \u001b[0mtrain_labels\u001b[0m\u001b[1;33m,\u001b[0m \u001b[1;34m'SMO'\u001b[0m\u001b[1;33m,\u001b[0m \u001b[0mplot_dilation\u001b[0m\u001b[1;33m)\u001b[0m\u001b[1;33m\u001b[0m\u001b[0m\n",
      "\u001b[1;31mNameError\u001b[0m: name 'plt' is not defined"
     ]
    }
   ],
   "source": [
    "# training acc plot\n",
    "plt.figure(figsize=(8, 8))\n",
    "acc_plot(smo_model_100.w_ls[:plot_iters], train_vectors, train_labels, 'SMO C = 100.0', plot_dilation)\n",
    "acc_plot(smo_model_10.w_ls[:plot_iters], train_vectors, train_labels, 'SMO C = 10.0', plot_dilation)\n",
    "acc_plot(smo_model_1.w_ls[:plot_iters], train_vectors, train_labels, 'SMO C= 1.0', plot_dilation)\n",
    "acc_plot(smo_model_01.w_ls[:plot_iters], train_vectors, train_labels, 'SMO C = 0.1', plot_dilation)\n",
    "acc_plot(smo_model_001.w_ls[:plot_iters], train_vectors, train_labels, 'SMO C = 0.01', plot_dilation)\n",
    "acc_plot(smo_model_0n.w_ls[:plot_iters], train_vectors, train_labels, 'SMO C = 1/n', plot_dilation)\n",
    "\n",
    "plt.title(' Training Acc ')\n",
    "plt.legend(['C = 100.0', 'C = 10.0', 'C= 1.0', 'C = 0.1', 'C = 0.01', 'C = 1/n'])"
   ]
  },
  {
   "cell_type": "code",
   "execution_count": 3,
   "metadata": {},
   "outputs": [
    {
     "ename": "NameError",
     "evalue": "name 'plt' is not defined",
     "output_type": "error",
     "traceback": [
      "\u001b[1;31m---------------------------------------------------------------------------\u001b[0m",
      "\u001b[1;31mNameError\u001b[0m                                 Traceback (most recent call last)",
      "\u001b[1;32m<ipython-input-3-fec454f4ddef>\u001b[0m in \u001b[0;36m<module>\u001b[1;34m()\u001b[0m\n\u001b[0;32m      1\u001b[0m \u001b[1;31m# test error plot\u001b[0m\u001b[1;33m\u001b[0m\u001b[1;33m\u001b[0m\u001b[0m\n\u001b[1;32m----> 2\u001b[1;33m \u001b[0mplt\u001b[0m\u001b[1;33m.\u001b[0m\u001b[0mfigure\u001b[0m\u001b[1;33m(\u001b[0m\u001b[0mfigsize\u001b[0m\u001b[1;33m=\u001b[0m\u001b[1;33m(\u001b[0m\u001b[1;36m8\u001b[0m\u001b[1;33m,\u001b[0m \u001b[1;36m8\u001b[0m\u001b[1;33m)\u001b[0m\u001b[1;33m)\u001b[0m\u001b[1;33m\u001b[0m\u001b[0m\n\u001b[0m\u001b[0;32m      3\u001b[0m \u001b[0merror_plot\u001b[0m\u001b[1;33m(\u001b[0m\u001b[0msvm_model_100\u001b[0m\u001b[1;33m.\u001b[0m\u001b[0mw_ls\u001b[0m\u001b[1;33m[\u001b[0m\u001b[1;33m:\u001b[0m\u001b[0mplot_iters\u001b[0m\u001b[1;33m]\u001b[0m\u001b[1;33m,\u001b[0m \u001b[1;36m1.0\u001b[0m\u001b[1;33m,\u001b[0m \u001b[0mval_vectors\u001b[0m\u001b[1;33m,\u001b[0m \u001b[0mval_labels\u001b[0m\u001b[1;33m,\u001b[0m \u001b[1;34m'SMO'\u001b[0m\u001b[1;33m,\u001b[0m \u001b[0mplot_dilation\u001b[0m\u001b[1;33m)\u001b[0m\u001b[1;33m\u001b[0m\u001b[0m\n\u001b[0;32m      4\u001b[0m \u001b[0merror_plot\u001b[0m\u001b[1;33m(\u001b[0m\u001b[0msvm_model_10\u001b[0m\u001b[1;33m.\u001b[0m\u001b[0mw_ls\u001b[0m\u001b[1;33m[\u001b[0m\u001b[1;33m:\u001b[0m\u001b[0mplot_iters\u001b[0m\u001b[1;33m]\u001b[0m\u001b[1;33m,\u001b[0m \u001b[1;36m1.0\u001b[0m\u001b[1;33m,\u001b[0m \u001b[0mval_vectors\u001b[0m\u001b[1;33m,\u001b[0m \u001b[0mval_labels\u001b[0m\u001b[1;33m,\u001b[0m \u001b[1;34m'SMO'\u001b[0m\u001b[1;33m,\u001b[0m \u001b[0mplot_dilation\u001b[0m\u001b[1;33m)\u001b[0m\u001b[1;33m\u001b[0m\u001b[0m\n\u001b[0;32m      5\u001b[0m \u001b[0merror_plot\u001b[0m\u001b[1;33m(\u001b[0m\u001b[0msvm_model_1\u001b[0m\u001b[1;33m.\u001b[0m\u001b[0mw_ls\u001b[0m\u001b[1;33m[\u001b[0m\u001b[1;33m:\u001b[0m\u001b[0mplot_iters\u001b[0m\u001b[1;33m]\u001b[0m\u001b[1;33m,\u001b[0m \u001b[1;36m1.0\u001b[0m\u001b[1;33m,\u001b[0m \u001b[0mval_vectors\u001b[0m\u001b[1;33m,\u001b[0m \u001b[0mval_labels\u001b[0m\u001b[1;33m,\u001b[0m \u001b[1;34m'SMO'\u001b[0m\u001b[1;33m,\u001b[0m \u001b[0mplot_dilation\u001b[0m\u001b[1;33m)\u001b[0m\u001b[1;33m\u001b[0m\u001b[0m\n",
      "\u001b[1;31mNameError\u001b[0m: name 'plt' is not defined"
     ]
    }
   ],
   "source": [
    "# test error plot\n",
    "plt.figure(figsize=(8, 8))\n",
    "error_plot(smo_model_100.w_ls[:plot_iters], 1.0, val_vectors, val_labels, 'SMO', plot_dilation)\n",
    "error_plot(smo_model_10.w_ls[:plot_iters], 1.0, val_vectors, val_labels, 'SMO', plot_dilation)\n",
    "error_plot(smo_model_1.w_ls[:plot_iters], 1.0, val_vectors, val_labels, 'SMO', plot_dilation)\n",
    "error_plot(smo_model_01.w_ls[:plot_iters], 1.0, val_vectors, val_labels, 'SMO', plot_dilation)\n",
    "error_plot(smo_model_001.w_ls[:plot_iters], 1.0, val_vectors, val_labels, 'SMO', plot_dilation)\n",
    "error_plot(smo_model_0n.w_ls[:plot_iters], 1.0, val_vectors, val_labels, 'SMO', plot_dilation)\n",
    "\n",
    "plt.title(' Testing Error ')\n",
    "plt.legend(['C = 100.0', 'C = 10.0', 'C= 1.0', 'C = 0.1', 'C = 0.01', 'C = 1/n'])"
   ]
  },
  {
   "cell_type": "code",
   "execution_count": null,
   "metadata": {},
   "outputs": [],
   "source": [
    "# test acc plot\n",
    "plt.figure(figsize=(8, 8))\n",
    "acc_plot(smo_model_100.w_ls[:plot_iters], val_vectors, val_labels, 'SMO', plot_dilation)\n",
    "acc_plot(smo_model_10.w_ls[:plot_iters], val_vectors, val_labels, 'SMO', plot_dilation)\n",
    "acc_plot(smo_model_1.w_ls[:plot_iters], val_vectors, val_labels, 'SMO', plot_dilation)\n",
    "acc_plot(smo_model_01.w_ls[:plot_iters], val_vectors, val_labels, 'SMO', plot_dilation)\n",
    "acc_plot(smo_model_001.w_ls[:plot_iters], val_vectors, val_labels, 'SMO', plot_dilation)\n",
    "acc_plot(smo_model_0n.w_ls[:plot_iters], val_vectors, val_labels, 'SMO', plot_dilation)\n",
    "\n",
    "plt.title(' Testing Acc ')\n",
    "plt.legend(['C = 100.0', 'C = 10.0', 'C= 1.0', 'C = 0.1', 'C = 0.01', 'C = 1/n'])"
   ]
  },
  {
   "cell_type": "code",
   "execution_count": null,
   "metadata": {
    "scrolled": true
   },
   "outputs": [],
   "source": [
    "# Cifar\n",
    "folder = 'dataset/cifar/'\n",
    "train_vectors, train_labels, val_vectors, val_labels, label_names = get_cifar10(folder)\n",
    "print(train_vectors.shape, train_labels.shape, val_vectors.shape, val_labels.shape)\n",
    "num_examples, num_features = train_vectors.shape"
   ]
  },
  {
   "cell_type": "code",
   "execution_count": null,
   "metadata": {},
   "outputs": [],
   "source": [
    "# SMO descend with C=100.0\n",
    "smo_model_100 = SMO(max_iter=1, kernel_type='linear', C=100.0, epsilon=0.001)\n",
    "smo_model_100.fit(train_vectors, train_labels)\n",
    "\n",
    "# SMO descend with C=10.0\n",
    "smo_model_10 = SMO(max_iter=1, kernel_type='linear', C=10.0, epsilon=0.001)\n",
    "smo_model_10.fit(train_vectors, train_labels)\n",
    "\n",
    "# SMO descend with C=1.0\n",
    "smo_model_1 = SMO(max_iter=1, kernel_type='linear', C=1.0, epsilon=0.001)\n",
    "smo_model_1.fit(train_vectors, train_labels)\n",
    "\n",
    "# SMO descend with C=0.1\n",
    "smo_model_01 = SMO(max_iter=1, kernel_type='linear', C=0.1, epsilon=0.001)\n",
    "smo_model_01.fit(train_vectors, train_labels)\n",
    "\n",
    "# SMO descend with C=0.01\n",
    "smo_model_001 = SMO(max_iter=1, kernel_type='linear', C=0.01, epsilon=0.001)\n",
    "smo_model_001.fit(train_vectors, train_labels)\n",
    "\n",
    "# SMO descend with C=1/n\n",
    "smo_model_0n = SMO(max_iter=1, kernel_type='linear', C=1.0 / train_vectors.shape[0], epsilon=0.001)\n",
    "smo_model_0n.fit(train_vectors, train_labels)"
   ]
  },
  {
   "cell_type": "code",
   "execution_count": null,
   "metadata": {},
   "outputs": [],
   "source": [
    "# training error plot\n",
    "plot_dilation = 200\n",
    "plt.figure(figsize=(8, 8))\n",
    "plot_iters = 3000\n",
    "\n",
    "error_plot(smo_model_100.w_ls[:plot_iters], 1.0, train_vectors, train_labels, 'SMO', plot_dilation)\n",
    "error_plot(smo_model_10.w_ls[:plot_iters], 1.0, train_vectors, train_labels, 'SMO', plot_dilation)\n",
    "error_plot(smo_model_1.w_ls[:plot_iters], 1.0, train_vectors, train_labels, 'SMO', plot_dilation)\n",
    "error_plot(smo_model_01.w_ls[:plot_iters], 1.0, train_vectors, train_labels, 'SMO', plot_dilation)\n",
    "error_plot(smo_model_001.w_ls[:plot_iters], 1.0, train_vectors, train_labels, 'SMO', plot_dilation)\n",
    "error_plot(smo_model_0n.w_ls[:plot_iters], 1.0, train_vectors, train_labels, 'SMO', plot_dilation)\n",
    "\n",
    "plt.title(' Training Error ')\n",
    "plt.legend(['C = 100.0', 'C = 10.0', 'C= 1.0', 'C = 0.1', 'C = 0.01', 'C = 1/n'])"
   ]
  },
  {
   "cell_type": "code",
   "execution_count": null,
   "metadata": {},
   "outputs": [],
   "source": [
    "# training acc plot\n",
    "plt.figure(figsize=(8, 8))\n",
    "acc_plot(smo_model_100.w_ls[:plot_iters], train_vectors, train_labels, 'SMO', plot_dilation)\n",
    "acc_plot(smo_model_10.w_ls[:plot_iters], train_vectors, train_labels, 'SMO', plot_dilation)\n",
    "acc_plot(smo_model_1.w_ls[:plot_iters], train_vectors, train_labels, 'SMO', plot_dilation)\n",
    "acc_plot(smo_model_01.w_ls[:plot_iters], train_vectors, train_labels, 'SMO', plot_dilation)\n",
    "acc_plot(smo_model_001.w_ls[:plot_iters], train_vectors, train_labels, 'SMO', plot_dilation)\n",
    "acc_plot(smo_model_0n.w_ls[:plot_iters], train_vectors, train_labels, 'SMO', plot_dilation)\n",
    "\n",
    "plt.title(' Training Acc ')\n",
    "plt.legend(['C = 100.0', 'C = 10.0', 'C= 1.0', 'C = 0.1', 'C = 0.01', 'C = 1/n'])"
   ]
  },
  {
   "cell_type": "code",
   "execution_count": null,
   "metadata": {},
   "outputs": [],
   "source": [
    "# test error plot\n",
    "plt.figure(figsize=(8, 8))\n",
    "error_plot(smo_model_100.w_ls[:plot_iters], 1.0, val_vectors, val_labels, 'SMO', plot_dilation)\n",
    "error_plot(smo_model_10.w_ls[:plot_iters], 1.0, val_vectors, val_labels, 'SMO', plot_dilation)\n",
    "error_plot(smo_model_1.w_ls[:plot_iters], 1.0, val_vectors, val_labels, 'SMO', plot_dilation)\n",
    "error_plot(smo_model_01.w_ls[:plot_iters], 1.0, val_vectors, val_labels, 'SMO', plot_dilation)\n",
    "error_plot(smo_model_001.w_ls[:plot_iters], 1.0, val_vectors, val_labels, 'SMO', plot_dilation)\n",
    "error_plot(smo_model_0n.w_ls[:plot_iters], 1.0, val_vectors, val_labels, 'SMO', plot_dilation)\n",
    "\n",
    "plt.title(' Testing Error ')\n",
    "plt.legend(['C = 100.0', 'C = 10.0', 'C= 1.0', 'C = 0.1', 'C = 0.01', 'C = 1/n'])"
   ]
  },
  {
   "cell_type": "code",
   "execution_count": null,
   "metadata": {},
   "outputs": [],
   "source": [
    "# test acc plot\n",
    "plt.figure(figsize=(8, 8))\n",
    "acc_plot(smo_model_100.w_ls[:plot_iters], val_vectors, val_labels, 'SMO', plot_dilation)\n",
    "acc_plot(smo_model_10.w_ls[:plot_iters], val_vectors, val_labels, 'SMO', plot_dilation)\n",
    "acc_plot(smo_model_1.w_ls[:plot_iters], val_vectors, val_labels, 'SMO', plot_dilation)\n",
    "acc_plot(smo_model_01.w_ls[:plot_iters], val_vectors, val_labels, 'SMO', plot_dilation)\n",
    "acc_plot(smo_model_001.w_ls[:plot_iters], val_vectors, val_labels, 'SMO', plot_dilation)\n",
    "acc_plot(smo_model_0n.w_ls[:plot_iters], val_vectors, val_labels, 'SMO', plot_dilation)\n",
    "\n",
    "plt.title(' Testing Acc ')\n",
    "plt.legend(['C = 100.0', 'C = 10.0', 'C= 1.0', 'C = 0.1', 'C = 0.01', 'C = 1/n'])"
   ]
  },
  {
   "cell_type": "code",
   "execution_count": null,
   "metadata": {},
   "outputs": [],
   "source": []
  }
 ],
 "metadata": {
  "kernelspec": {
   "display_name": "Python 3",
   "language": "python",
   "name": "python3"
  },
  "language_info": {
   "codemirror_mode": {
    "name": "ipython",
    "version": 3
   },
   "file_extension": ".py",
   "mimetype": "text/x-python",
   "name": "python",
   "nbconvert_exporter": "python",
   "pygments_lexer": "ipython3",
   "version": "3.5.2"
  }
 },
 "nbformat": 4,
 "nbformat_minor": 2
}
