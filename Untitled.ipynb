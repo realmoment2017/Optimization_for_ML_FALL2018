{
 "cells": [
  {
   "cell_type": "code",
   "execution_count": 9,
   "metadata": {},
   "outputs": [
    {
     "name": "stdout",
     "output_type": "stream",
     "text": [
      "117.79386715494792\n",
      "66.20055489395168\n",
      "[[ 0.78860567  0.75839444  0.89434496 ... -0.54068833 -0.60111078\n",
      "  -0.57089955]\n",
      " [ 0.62244392  0.4864934   0.53181024 ... -1.56787005 -1.52255321\n",
      "  -1.49234198]\n",
      " [-1.35639146 -1.32618023 -1.28086339 ... -0.26878728 -0.28389289\n",
      "  -0.32920974]\n",
      " ...\n",
      " [ 1.63452003  1.61941441  1.61941441 ...  0.06353622  0.06353622\n",
      "   0.01821938]\n",
      " [ 1.07561233  1.03029549  1.01518987 ...  0.77350005  0.80371128\n",
      "   0.80371128]\n",
      " [ 1.67983687  1.78557616  1.75536494 ...  0.83392251  0.66776076\n",
      "   0.65265515]]\n",
      "(10000, 3072) (50000, 3072) [ 1  1 -1 ...  1  1  1]\n"
     ]
    }
   ],
   "source": [
    "%matplotlib inline\n",
    "\n",
    "import numpy as np\n",
    "import matplotlib\n",
    "import matplotlib.pyplot as plt\n",
    "from pegasos import *\n",
    "from cyclic_coordinate_descent import *\n",
    "from random_coordinate_descent import *\n",
    "from utils import *\n",
    "\n",
    "\n",
    "from sklearn.datasets import make_blobs, make_circles, make_moons\n",
    "from sklearn.preprocessing import StandardScaler\n",
    "import os, struct\n",
    "from array import array\n",
    "from SVM import SVM\n",
    "from RSVM import RSVM\n",
    "\n",
    "np.random.seed(1337)\n",
    "\n",
    "kwargs = {'linewidth' : 3.5}\n",
    "font = {'weight' : 'normal', 'size'   : 24}\n",
    "matplotlib.rc('font', **font)\n",
    "\n",
    "# mnist load images\n",
    "folder = 'dataset/cifar/'\n",
    "train_vectors, train_labels, val_vectors, val_labels, label_names = get_cifar10(folder)\n",
    "mask = (tr_labels == 1) | (tr_labels == 7)\n",
    "train = train_vectors[mask]\n",
    "label = (train_labels[mask] == 1).astype(np.int) * 2 - 1\n",
    "\n",
    "print(train.mean())\n",
    "print(train.std())\n",
    "print((train - train.mean()) / train.std())\n",
    "print(train.shape, train_vectors.shape, label)"
   ]
  }
 ],
 "metadata": {
  "kernelspec": {
   "display_name": "Python 3",
   "language": "python",
   "name": "python3"
  },
  "language_info": {
   "codemirror_mode": {
    "name": "ipython",
    "version": 3
   },
   "file_extension": ".py",
   "mimetype": "text/x-python",
   "name": "python",
   "nbconvert_exporter": "python",
   "pygments_lexer": "ipython3",
   "version": "3.6.4"
  }
 },
 "nbformat": 4,
 "nbformat_minor": 2
}
